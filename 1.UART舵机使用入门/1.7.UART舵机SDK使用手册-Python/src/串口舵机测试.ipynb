{
 "cells": [
  {
   "cell_type": "markdown",
   "metadata": {},
   "source": [
    "# FashionStar串口舵机 Python SDK使用指南"
   ]
  },
  {
   "cell_type": "markdown",
   "metadata": {},
   "source": [
    "## 测试平台\n",
    "\n",
    "测试所用到的软件开发环境与硬件开发平台\n",
    "\n",
    "* 测试平台 `Ubuntu16.04`\n",
    "* Python版本号 `Python3.6`\n",
    "* IDE:  `Jupyter Notebook`\n",
    "* Fashion Star 串口舵机 x2\n",
    "* 二自由度云台支架 (可选)\n",
    "\n",
    "\n",
    "**注意事项**\n",
    "1. 代码兼容Windows, 但是需要改一下设备号*确定串口设备号* 中的`USERVO_PORT_NAME`\n",
    "2. 关于Python的版本: Python3.5以及以上都兼容\n",
    "3. 使用Jupyter Notebook的原因是可以方便 Python脚本的交互测试, 可以做到执行一条语句, 舵机响应一下动作.\n",
    "   还可以看到每执行一条指令, 串口舵机发送与接收的所有字节数据.\n",
    "4. 二自由度云台支架只在*设置舵机的控制流* 中用到, 演示效果更好, 不用也可以"
   ]
  },
  {
   "cell_type": "markdown",
   "metadata": {},
   "source": [
    "## 安装依赖\n"
   ]
  },
  {
   "cell_type": "markdown",
   "metadata": {},
   "source": [
    "测试串口舵机只依赖一个库文件`pyserial`"
   ]
  },
  {
   "cell_type": "markdown",
   "metadata": {},
   "source": [
    "\n",
    "Ubuntu/树莓派下可以直接通过命令行安装\n",
    "```bash\n",
    "sudo pip3 install pyserial\n",
    "```\n",
    "\n",
    "Windows下可以通过"
   ]
  },
  {
   "cell_type": "markdown",
   "metadata": {},
   "source": [
    "## 导入依赖"
   ]
  },
  {
   "cell_type": "code",
   "execution_count": 1,
   "metadata": {},
   "outputs": [],
   "source": [
    "import time\n",
    "import subprocess\n",
    "import logging\n",
    "import serial\n",
    "import struct\n",
    "# 导入串口舵机管理器\n",
    "from fs_uservo import UartServoManager"
   ]
  },
  {
   "cell_type": "markdown",
   "metadata": {},
   "source": [
    "## 设置日志输出模式"
   ]
  },
  {
   "cell_type": "code",
   "execution_count": 3,
   "metadata": {},
   "outputs": [],
   "source": [
    "# 设置日志输出模式为INFO\n",
    "logging.basicConfig(level=logging.INFO)"
   ]
  },
  {
   "cell_type": "markdown",
   "metadata": {},
   "source": [
    "## 确定串口设备号"
   ]
  },
  {
   "cell_type": "markdown",
   "metadata": {},
   "source": [
    "设置串口舵机转接板的设备端口号\n",
    "\n",
    "### Windows\n",
    "Windows平台下, 端口号以`COM`开头, 例如`COM8`\n",
    "\n",
    "```python\n",
    "## 如果是Windows操作系统　串口设备号\n",
    "USERVO_PORT_NAME = 'COM8'\n",
    "```\n",
    "端口号可以通过Windows的设备列表查看，或者通过串口舵机的调试软件查看。\n",
    "\n",
    "详情见*FashionStar串口舵机说明书 // 舵机调试软件 // 串口连接*\n",
    "\n",
    "### Linux\n",
    "\n",
    "Linux平台下, 端口号以`/dev/ttyUSB`开头, 例如`/dev/ttyUSB0`\n",
    "\n",
    "获取设备号的脚本:\n",
    "```bash\n",
    "ls /dev/ttyUSB*\n",
    "```\n",
    "日志就会列出`/dev/ttyUSB`开头的所有设备号。\n",
    "```\n",
    "/dev/ttyUSB0\n",
    "```\n",
    "\n",
    "**注意事项**\n",
    "1. 需要注意的是, 端口号不一定是固定的。 例如连接串口舵机的USB拔下又插上, 端口号可能就会发生变动.\n",
    "2. 下方的设备号自动获取的代码只适用于Linux操作系统"
   ]
  },
  {
   "cell_type": "code",
   "execution_count": 4,
   "metadata": {},
   "outputs": [],
   "source": [
    "USERVO_PORT_NAME = ''\n",
    "## 如果是Windows操作系统　串口设备号\n",
    "# USERVO_PORT_NAME = 'COM8'\n",
    "\n",
    "## Linux开发平台 串口设备号\n",
    "# USERVO_PORT_NAME = '/dev/ttyUSB0'"
   ]
  },
  {
   "cell_type": "code",
   "execution_count": 5,
   "metadata": {},
   "outputs": [
    {
     "name": "stderr",
     "output_type": "stream",
     "text": [
      "INFO:root:识别串口舵机的端口号: /dev/ttyUSB0\n"
     ]
    }
   ],
   "source": [
    "# 如果设备号没有制定, 在Linux平台下,自动进行端口扫描\n",
    "if len(USERVO_PORT_NAME) == 0:\n",
    "    # Linux平台下自动查询串口舵机转接板的设备号\n",
    "    res = subprocess.Popen(\"ls /dev/ttyUSB*\",shell=True,stdout=subprocess.PIPE,stderr=subprocess.PIPE)  \n",
    "    # 获取设备列表\n",
    "    device_list = res.stdout.read().decode('utf-8').split()\n",
    "    if len(device_list) == 0:\n",
    "        logging.warn('[Error]请插入串口舵机转接板, 或检查电源')\n",
    "        exit(-1)\n",
    "    # 始终选择最后插入的那个设备\n",
    "    USERVO_PORT_NAME = max(device_list, key=lambda d: d[-1]) \n",
    "    logging.info('识别串口舵机的端口号: {}'.format(USERVO_PORT_NAME))"
   ]
  },
  {
   "cell_type": "code",
   "execution_count": 6,
   "metadata": {},
   "outputs": [
    {
     "data": {
      "text/plain": [
       "'/dev/ttyUSB0'"
      ]
     },
     "execution_count": 6,
     "metadata": {},
     "output_type": "execute_result"
    }
   ],
   "source": [
    "USERVO_PORT_NAME"
   ]
  },
  {
   "cell_type": "markdown",
   "metadata": {},
   "source": [
    "## 创建串口对象"
   ]
  },
  {
   "cell_type": "markdown",
   "metadata": {},
   "source": [
    "| 参数名称(en) | 参数名称(cn) | 参数数值 | 备注                                                         |\n",
    "| ------------ | ------------ | -------- | ------------------------------------------------------------ |\n",
    "| baudrate     | 波特率       | 115200   | |\n",
    "| parity       | 奇偶校验     | 无       |                                                              |\n",
    "| stopbits     | 停止位       | 1        |                                                              |\n",
    "| bytesize     | 字节长度     | 8        |                                                              |\n",
    "\n",
    "\n",
    "\n",
    "详情参见 *FashionStar串口舵机说明书 // 舵机通信协议 // 串口通信配置*"
   ]
  },
  {
   "cell_type": "code",
   "execution_count": 7,
   "metadata": {},
   "outputs": [],
   "source": [
    "# 创建串口对象\n",
    "uart = serial.Serial(port=USERVO_PORT_NAME, baudrate=115200,\\\n",
    "                     parity=serial.PARITY_NONE, stopbits=1,\\\n",
    "                     bytesize=8,timeout=0)"
   ]
  },
  {
   "cell_type": "markdown",
   "metadata": {},
   "source": [
    "## 创建串口舵机管理器\n",
    "\n",
    "\n",
    "**函数** \n",
    "\n",
    "`UartServoManager(uart, srv_num=1, mean_dps=100)` \n",
    "\n",
    "**功能**\n",
    "\n",
    "创建串口舵机管理器.\n",
    "\n",
    "**参数**\n",
    "\n",
    "* @param `uart` 串口对象\n",
    "* @param `srv_num` 代表串联的舵机的个数, 而且是默认从`0x00`开始依次递增 \n",
    "* @param `mean_dps` 默认的舵机角速度, 单位 °/s. 默认为100°/s\n",
    "\n",
    "在创建串口舵机管理器的时候, 会给每个舵机发送舵机通讯检测指令`PING`。\n",
    "\n",
    "如果舵机回传数据, 则认为舵机是有效的, 若舵机超时没有应答，则认为舵机不在线, 抛出警告信息.\n",
    "\n",
    "详情见 *FashionStar串口舵机说明书 / <指令>舵机通讯检测*"
   ]
  },
  {
   "cell_type": "code",
   "execution_count": 8,
   "metadata": {},
   "outputs": [
    {
     "name": "stderr",
     "output_type": "stream",
     "text": [
      "INFO:root:串口发送请求数据 code:1\n",
      "INFO:root:数据帧内容:\n",
      "INFO:root:0x12 0x4c 0x01 0x01 0x00 0x60 \n",
      "INFO:root:PING 舵机 id=0\n",
      "INFO:root:Recv Bytes: \n",
      "INFO:root:0x05 0x1c 0x01 0x01 0x00 0x23\n",
      "INFO:root:[fs_uservo]ECHO 已知舵机 id=0\n",
      "INFO:root:[fs_uservo]串口舵机ID=0 响应ping\n",
      "INFO:root:串口发送请求数据 code:1\n",
      "INFO:root:数据帧内容:\n",
      "INFO:root:0x12 0x4c 0x01 0x01 0x01 0x61 \n",
      "INFO:root:PING 舵机 id=1\n",
      "INFO:root:Recv Bytes: \n",
      "INFO:root:\n",
      "ERROR:root:[fs_uservo]串口舵机ID=1 掉线, 请检查\n"
     ]
    }
   ],
   "source": [
    "# 这里因为我们的测试平台是2DoF的舵机云台\n",
    "# 如果没有第二个舵机的话 会有一个Error信息提示\n",
    "# ERROR:root:[fs_uservo]串口舵机ID=1 掉线, 请检查\n",
    "srv_num = 2 # 舵机个数\n",
    "uservo_manager = UartServoManager(uart, srv_num=srv_num)"
   ]
  },
  {
   "cell_type": "markdown",
   "metadata": {},
   "source": [
    "## 设置舵机角度\n",
    "\n",
    "### API说明"
   ]
  },
  {
   "cell_type": "markdown",
   "metadata": {},
   "source": [
    "**函数**\n",
    "\n",
    "`uservo_manager.request_set_srv_angle(srv_id, angle, interval=None, mean_dps=None, power=0)`\n",
    "\n",
    "**功能**\n",
    "\n",
    "设定舵机的角度\n",
    "\n",
    "**参数**\n",
    "* @param `srv_id` 舵机的ID号\n",
    "* @param `angle` 舵机的目标角度, 角度取值范围 [-135, 135]\n",
    "* @param `interval` 设置舵机从当前角度运动到目标角度所需要的时间, 单位ms\n",
    "* @param `mean_dps` 指定舵机从当前角度运动到目标角度期间的平均角速度, 单位 °/s.  `mean_dps` 会被折算成`interval`\n",
    "\n",
    "\n",
    "**注意事项**\n",
    "1. 当`interval`跟`mean_dps`均不设置的时候, SDK会将会按照`15ms`一度, 折算成`interval`\n",
    "2. 如果是第一次设置角度, SDK会将第一次的角度设置的周期`interval`设置为`800ms`\n",
    "3. 关于舵机角度设置的详细介绍，参见*FashionStar串口舵机说明书 / <指令>读取舵机角度*"
   ]
  },
  {
   "cell_type": "markdown",
   "metadata": {},
   "source": [
    "### 使用示例\n",
    "\n",
    "#### 设置舵机角度\n",
    "设置舵机角度(使用默认的角速度)"
   ]
  },
  {
   "cell_type": "code",
   "execution_count": 9,
   "metadata": {},
   "outputs": [
    {
     "name": "stderr",
     "output_type": "stream",
     "text": [
      "INFO:root:串口发送请求数据 code:8\n",
      "INFO:root:数据帧内容:\n",
      "INFO:root:0x12 0x4c 0x08 0x07 0x00 0x00 0x00 0x20 0x03 0x00 0x00 0x90 \n"
     ]
    },
    {
     "data": {
      "text/plain": [
       "True"
      ]
     },
     "execution_count": 9,
     "metadata": {},
     "output_type": "execute_result"
    }
   ],
   "source": [
    "servo_id = 0 # 舵机ID\n",
    "angle = 0 # 目标角度\n",
    "uservo_manager.request_set_srv_angle(0, 0)"
   ]
  },
  {
   "cell_type": "markdown",
   "metadata": {},
   "source": [
    "#### 设置舵机角度(指定角速度)\n",
    "设置舵机的旋转角速度`mean_dps` 来控制舵机。"
   ]
  },
  {
   "cell_type": "code",
   "execution_count": 24,
   "metadata": {},
   "outputs": [
    {
     "name": "stderr",
     "output_type": "stream",
     "text": [
      "INFO:root:串口发送请求数据 code:8\n",
      "INFO:root:数据帧内容:\n",
      "INFO:root:0x12 0x4c 0x08 0x07 0x00 0x84 0x03 0x00 0x00 0x00 0x00 0xf4 \n"
     ]
    },
    {
     "data": {
      "text/plain": [
       "True"
      ]
     },
     "execution_count": 24,
     "metadata": {},
     "output_type": "execute_result"
    }
   ],
   "source": [
    "servo_id = 0 # 舵机ID\n",
    "angle = 90 # 目标角度\n",
    "mean_dps = 60 # 平均角速度 \n",
    "uservo_manager.request_set_srv_angle(servo_id, angle, mean_dps=mean_dps)"
   ]
  },
  {
   "cell_type": "markdown",
   "metadata": {},
   "source": [
    "#### 设置舵机角度(指定周期)\n",
    "直接设置周期`interval`, 例如设置为100ms."
   ]
  },
  {
   "cell_type": "code",
   "execution_count": 25,
   "metadata": {},
   "outputs": [
    {
     "name": "stderr",
     "output_type": "stream",
     "text": [
      "INFO:root:串口发送请求数据 code:8\n",
      "INFO:root:数据帧内容:\n",
      "INFO:root:0x12 0x4c 0x08 0x07 0x00 0x00 0x00 0x64 0x00 0x00 0x00 0xd1 \n"
     ]
    },
    {
     "data": {
      "text/plain": [
       "True"
      ]
     },
     "execution_count": 25,
     "metadata": {},
     "output_type": "execute_result"
    }
   ],
   "source": [
    "servo_id = 0 # 舵机ID\n",
    "angle = 0 # 目标角度\n",
    "interval = 100 # 运行周期\n",
    "uservo_manager.request_set_srv_angle(0, 0, interval=100)"
   ]
  },
  {
   "cell_type": "markdown",
   "metadata": {},
   "source": [
    "## 串口舵机信息 UartServoInfo"
   ]
  },
  {
   "cell_type": "markdown",
   "metadata": {},
   "source": [
    "`UartServoManager`类, 有一个属性是`srv_info_dict`.  这个`srv_info_dict`是一个字典格式的数据类型.\n",
    "\n",
    "我们可以通过舵机的ID号来获取对应的串口舵机信息对象(`UartServoInfo`).\n"
   ]
  },
  {
   "cell_type": "code",
   "execution_count": 14,
   "metadata": {},
   "outputs": [
    {
     "data": {
      "text/plain": [
       "<fs_uservo.UartServoInfo at 0x7f2a983dbdd8>"
      ]
     },
     "execution_count": 14,
     "metadata": {},
     "output_type": "execute_result"
    }
   ],
   "source": [
    "servo_id = 0 # 舵机ID\n",
    "\n",
    "uservo_manager.srv_info_dict[servo_id]"
   ]
  },
  {
   "cell_type": "markdown",
   "metadata": {},
   "source": [
    "在Python的`SDK`里面舵机的角度是按照指令发出时间，以及时间周期来对角度做一个近似估算."
   ]
  },
  {
   "cell_type": "markdown",
   "metadata": {},
   "source": [
    "获取舵机当前所在的角度需要通过`.angle`属性"
   ]
  },
  {
   "cell_type": "code",
   "execution_count": 15,
   "metadata": {},
   "outputs": [
    {
     "data": {
      "text/plain": [
       "0"
      ]
     },
     "execution_count": 15,
     "metadata": {},
     "output_type": "execute_result"
    }
   ],
   "source": [
    "uservo_manager.srv_info_dict[servo_id].angle"
   ]
  },
  {
   "cell_type": "markdown",
   "metadata": {},
   "source": [
    "舵机当前是否在运动中, 需要访问`is_stop()`方法, 返回一个布尔值\n",
    "\n",
    "* `True` 舵机已经停止\n",
    "* `False` 舵机正在旋转"
   ]
  },
  {
   "cell_type": "code",
   "execution_count": 16,
   "metadata": {},
   "outputs": [
    {
     "data": {
      "text/plain": [
       "True"
      ]
     },
     "execution_count": 16,
     "metadata": {},
     "output_type": "execute_result"
    }
   ],
   "source": [
    "uservo_manager.srv_info_dict[servo_id].is_stop()"
   ]
  },
  {
   "cell_type": "markdown",
   "metadata": {},
   "source": [
    "另外`UartServoManager`也有一个`is_stop()`方法, 它返回的是所有的舵机是否停止"
   ]
  },
  {
   "cell_type": "code",
   "execution_count": 17,
   "metadata": {},
   "outputs": [
    {
     "data": {
      "text/plain": [
       "True"
      ]
     },
     "execution_count": 17,
     "metadata": {},
     "output_type": "execute_result"
    }
   ],
   "source": [
    "uservo_manager.is_stop()"
   ]
  },
  {
   "cell_type": "markdown",
   "metadata": {},
   "source": [
    "## 设置舵机的控制流"
   ]
  },
  {
   "cell_type": "markdown",
   "metadata": {},
   "source": [
    "在很多PID舵机角度设置/自稳云台等应用, 可以不停的给舵机云台发送控制指令, 而不需要每次都等待舵机执行到目标角度.\n",
    "\n",
    "但在有些应用场景下面, 例如机械臂, 我们需要让机械臂按照某个操作流程完成一个任务, 舵机/舵机序列是先旋转到一个角度, 然后再旋转到下一个角度.\n",
    "有严格的时序关系. \n"
   ]
  },
  {
   "cell_type": "markdown",
   "metadata": {},
   "source": [
    "比较简单的写法是通过`UartServoManager`的`is_stop`方法， 还有`while`循环来实现, 这是最简单的实现方法.\n",
    "\n",
    "当然你也可以通过多线程/多进程的方式进行编程."
   ]
  },
  {
   "cell_type": "code",
   "execution_count": 21,
   "metadata": {},
   "outputs": [],
   "source": [
    "import time # 导入时间模块\n",
    "\n",
    "# 定义一个等待舵机旋转完毕的函数\n",
    "def uservo_wait():\n",
    "    global uservo_manager\n",
    "    while True:\n",
    "        if uservo_manager.is_stop():\n",
    "            break\n",
    "        # 等待10ms\n",
    "        time.sleep(0.01)\n"
   ]
  },
  {
   "cell_type": "markdown",
   "metadata": {},
   "source": [
    "**示例** 舵机舵机设置序列延时(单个舵机)"
   ]
  },
  {
   "cell_type": "code",
   "execution_count": 30,
   "metadata": {},
   "outputs": [
    {
     "name": "stderr",
     "output_type": "stream",
     "text": [
      "INFO:root:串口发送请求数据 code:8\n",
      "INFO:root:数据帧内容:\n",
      "INFO:root:0x12 0x4c 0x08 0x07 0x00 0x00 0x00 0x00 0x00 0x00 0x00 0x6d \n",
      "INFO:root:串口发送请求数据 code:8\n",
      "INFO:root:数据帧内容:\n",
      "INFO:root:0x12 0x4c 0x08 0x07 0x00 0x84 0x03 0xc2 0x01 0x00 0x00 0xb7 \n",
      "INFO:root:串口发送请求数据 code:8\n",
      "INFO:root:数据帧内容:\n",
      "INFO:root:0x12 0x4c 0x08 0x07 0x00 0x7c 0xfc 0x08 0x07 0x00 0x00 0xf4 \n",
      "INFO:root:串口发送请求数据 code:8\n",
      "INFO:root:数据帧内容:\n",
      "INFO:root:0x12 0x4c 0x08 0x07 0x00 0x00 0x00 0xc2 0x01 0x00 0x00 0x30 \n"
     ]
    }
   ],
   "source": [
    "servo_id = 0\n",
    "uservo_manager.mean_dps = 200 # 修改平均角速度\n",
    "uservo_manager.request_set_srv_angle(servo_id, 0)\n",
    "# -----这里可以添加对其他舵机/关节角度的设置------\n",
    "# -----角度都设置完成之后,再一起等待-------\n",
    "uservo_wait() # 等待角度设置结束\n",
    "\n",
    "uservo_manager.request_set_srv_angle(servo_id, 90)\n",
    "uservo_wait() # 等待角度设置结束\n",
    "\n",
    "# 关节运动到一个特定的位置之后，可能要停顿一下，执行抓取或者放置的动作\n",
    "time.sleep(0.5) # 延时0.5s = 500ms\n",
    "\n",
    "# 不同的动作之间的速度要求可能也都不一样, 可以通过设置全局角速度的方式进行修改\n",
    "uservo_manager.mean_dps = 100 # 修改平均角速度\n",
    "\n",
    "uservo_manager.request_set_srv_angle(servo_id, -90) \n",
    "uservo_wait() # 等待角度设置结束\n",
    "\n",
    "uservo_manager.mean_dps = 200 # 修改平均角速度\n",
    "uservo_manager.request_set_srv_angle(servo_id, 0)\n",
    "uservo_wait() # 等待角度设置结束"
   ]
  },
  {
   "cell_type": "markdown",
   "metadata": {},
   "source": [
    "**示例** 舵机舵机设置序列延时(多个舵机)"
   ]
  },
  {
   "cell_type": "code",
   "execution_count": 29,
   "metadata": {},
   "outputs": [],
   "source": [
    "srv_down = 0 # 云台下部的舵机ID号\n",
    "srv_up = 1 # 云台上部的舵机的ID号"
   ]
  },
  {
   "cell_type": "code",
   "execution_count": 35,
   "metadata": {},
   "outputs": [
    {
     "name": "stderr",
     "output_type": "stream",
     "text": [
      "INFO:root:串口发送请求数据 code:8\n",
      "INFO:root:数据帧内容:\n",
      "INFO:root:0x12 0x4c 0x08 0x07 0x00 0x00 0x00 0x00 0x00 0x00 0x00 0x6d \n",
      "INFO:root:串口发送请求数据 code:8\n",
      "INFO:root:数据帧内容:\n",
      "INFO:root:0x12 0x4c 0x08 0x07 0x01 0x00 0x00 0x00 0x00 0x00 0x00 0x6e \n",
      "INFO:root:串口发送请求数据 code:8\n",
      "INFO:root:数据帧内容:\n",
      "INFO:root:0x12 0x4c 0x08 0x07 0x00 0x84 0x03 0xc2 0x01 0x00 0x00 0xb7 \n",
      "INFO:root:串口发送请求数据 code:8\n",
      "INFO:root:数据帧内容:\n",
      "INFO:root:0x12 0x4c 0x08 0x07 0x01 0x58 0x02 0x2c 0x01 0x00 0x00 0xf5 \n",
      "INFO:root:串口发送请求数据 code:8\n",
      "INFO:root:数据帧内容:\n",
      "INFO:root:0x12 0x4c 0x08 0x07 0x00 0x7c 0xfc 0x08 0x07 0x00 0x00 0xf4 \n",
      "INFO:root:串口发送请求数据 code:8\n",
      "INFO:root:数据帧内容:\n",
      "INFO:root:0x12 0x4c 0x08 0x07 0x01 0xa8 0xfd 0xb0 0x04 0x00 0x00 0xc7 \n",
      "INFO:root:串口发送请求数据 code:8\n",
      "INFO:root:数据帧内容:\n",
      "INFO:root:0x12 0x4c 0x08 0x07 0x00 0x00 0x00 0xc2 0x01 0x00 0x00 0x30 \n",
      "INFO:root:串口发送请求数据 code:8\n",
      "INFO:root:数据帧内容:\n",
      "INFO:root:0x12 0x4c 0x08 0x07 0x01 0x00 0x00 0x2c 0x01 0x00 0x00 0x9b \n"
     ]
    }
   ],
   "source": [
    "uservo_manager.mean_dps = 200 # 修改平均角速度\n",
    "\n",
    "# 动作1 初始位\n",
    "uservo_manager.request_set_srv_angle(srv_down, 0) \n",
    "uservo_manager.request_set_srv_angle(srv_up, 0)\n",
    "uservo_wait() # 等待角度设置结束\n",
    "\n",
    "\n",
    "# 动作2\n",
    "uservo_manager.request_set_srv_angle(srv_down, 90)\n",
    "uservo_manager.request_set_srv_angle(srv_up, 60)\n",
    "uservo_wait() # 等待角度设置结束\n",
    "\n",
    "# 关节运动到一个特定的位置之后，可能要停顿一下，执行抓取或者放置的动作\n",
    "# 这里只是模拟个延时\n",
    "time.sleep(0.5) # 延时0.5s = 500ms\n",
    "\n",
    "# 不同的动作之间的速度要求可能也都不一样, 可以通过设置全局角速度的方式进行修改\n",
    "uservo_manager.mean_dps = 100 # 修改平均角速度\n",
    "\n",
    "# 动作3\n",
    "uservo_manager.request_set_srv_angle(srv_down, -90)\n",
    "uservo_manager.request_set_srv_angle(srv_up, -60)\n",
    "uservo_wait() # 等待角度设置结束\n",
    "\n",
    "# 动作4 (初始位)\n",
    "uservo_manager.mean_dps = 200 # 修改平均角速度\n",
    "uservo_manager.request_set_srv_angle(srv_down, 0)\n",
    "uservo_manager.request_set_srv_angle(srv_up, 0)\n",
    "uservo_wait() # 等待角度设置结束"
   ]
  },
  {
   "cell_type": "markdown",
   "metadata": {},
   "source": [
    "## 角度回传测试"
   ]
  },
  {
   "cell_type": "markdown",
   "metadata": {},
   "source": [
    "### API说明\n",
    "\n",
    "**函数**\n",
    "```\n",
    "uservo_manager.request_query_srv_angle(srv_id)\n",
    "```\n",
    "\n",
    "**功能**\n",
    "\n",
    "查询单个舵机的角度\n",
    "\n",
    "\n",
    "**参数**\n",
    "\n",
    "* @param `srv_id` 舵机ID\n",
    "\n",
    "\n",
    "**注意事项**\n",
    "1. 在使用角度回读的时候, 需要注意的是，不能连续的发送多个舵机角度查询请求.\n",
    "\n",
    "   请求与请求之间需要间隔一段时间, 参考延时为10ms, 可以适当减少延迟时间。 \n",
    "   \n",
    "   让PC接收到反馈数据之后, 再发送第二条请求."
   ]
  },
  {
   "cell_type": "markdown",
   "metadata": {},
   "source": [
    "### 使用示例"
   ]
  },
  {
   "cell_type": "code",
   "execution_count": 12,
   "metadata": {},
   "outputs": [
    {
     "name": "stderr",
     "output_type": "stream",
     "text": [
      "INFO:root:串口发送请求数据 code:10\n",
      "INFO:root:数据帧内容:\n",
      "INFO:root:0x12 0x4c 0x0a 0x01 0x00 0x69 \n"
     ]
    }
   ],
   "source": [
    "for srv_id in range(2):\n",
    "    # 查询舵机的角度\n",
    "    uservo_manager.request_query_srv_angle(srv_id)\n",
    "    # 延时10ms\n",
    "    time.sleep(0.01)\n",
    "\n",
    "# 批量处理串口缓冲区内接收到的舵机角度反馈信息\n",
    "uservo_manager.update() # 接收获得的反馈数据"
   ]
  },
  {
   "cell_type": "code",
   "execution_count": null,
   "metadata": {},
   "outputs": [],
   "source": [
    "# 查看更新之后的角度数据\n",
    "print('0号舵机 当前的角度为:')\n",
    "print(uservo_manager.srv_info_ditc[0].cur_angle)\n",
    "print('1号舵机 当前的角度为:')\n",
    "print(uservo_manager.srv_info_ditc[1].cur_angle)"
   ]
  },
  {
   "cell_type": "markdown",
   "metadata": {},
   "source": [
    "## 轮式模式"
   ]
  },
  {
   "cell_type": "markdown",
   "metadata": {},
   "source": [
    "### API说明\n",
    "**函数**\n",
    "\n",
    "`request_set_spin(self, srv_id, mode, value=0, is_cw=True, speed=None)`\n",
    "\n",
    "**功能**\n",
    "\n",
    "轮式设置模式\n",
    "\n",
    "**参数**\n",
    "\n",
    "* @param `srv_id`\n",
    "    舵机的ID号\n",
    "* @param `mode`\n",
    "    舵机的模式 取值范围[0,3]\n",
    "* @param `value` \n",
    "    定时模式下代表时间(单位ms)\n",
    "    定圈模式下代表圈数(单位圈)\n",
    "* ＠param `is_cw`\n",
    "    轮子的旋转方向, is_cw代表是否是顺指针旋转\n",
    "* @param `speed`\n",
    "    轮子旋转的角速度, 单位 度/s\n",
    "\n",
    "        "
   ]
  },
  {
   "cell_type": "markdown",
   "metadata": {},
   "source": [
    "轮式模式下舵机控制模式的说明"
   ]
  },
  {
   "cell_type": "markdown",
   "metadata": {},
   "source": [
    "| 序号(二进制) | 序号(十六进制) | 执行方式                        |\n",
    "| ------- | -------- | --------------------------- |\n",
    "| 00      | 0x00     | 舵机停止                        |\n",
    "| 01      | 0x01     | 舵机持续旋转(不停)                  |\n",
    "| 10      | 0x02     | 舵机定圈旋转(旋转`value`圈后, 舵机停止)   |\n",
    "| 11      | 0x03     | 舵机定时旋转(旋转`value` ms后， 舵机停止) |\n"
   ]
  },
  {
   "cell_type": "markdown",
   "metadata": {},
   "source": [
    "详情见 *FashionStar串口舵机说明书 /  <指令>轮式模式控制*"
   ]
  },
  {
   "cell_type": "markdown",
   "metadata": {},
   "source": [
    "### 使用样例"
   ]
  },
  {
   "cell_type": "markdown",
   "metadata": {},
   "source": [
    "**警告: 在测试下列例程的请确保关节可以360旋转. 对于云台/机械臂, 关节是不可以360度旋转的, 因为有接线还有机械臂结构的约束.**\n",
    "\n",
    "如果用的是云台的话, 可以把舵机1跟舵机0的接线断开.\n",
    "\n",
    "#### 轮子不停的旋转"
   ]
  },
  {
   "cell_type": "code",
   "execution_count": 21,
   "metadata": {},
   "outputs": [
    {
     "name": "stderr",
     "output_type": "stream",
     "text": [
      "INFO:root:串口发送请求数据 code:7\n",
      "INFO:root:数据帧内容:\n",
      "INFO:root:0x12 0x4c 0x07 0x06 0x00 0x01 0x64 0x00 0x00 0x00 0xd0 \n"
     ]
    }
   ],
   "source": [
    "servo_id = 0 # 舵机ID\n",
    "mode = UartServoManager.WHEEL_MODE_NORMAL # 设置模式为不停的旋转\n",
    "uservo_manager.request_set_spin(servo_id, mode, speed=100, is_cw = False)"
   ]
  },
  {
   "cell_type": "markdown",
   "metadata": {},
   "source": [
    "测试逆时针旋转"
   ]
  },
  {
   "cell_type": "code",
   "execution_count": 14,
   "metadata": {},
   "outputs": [
    {
     "name": "stderr",
     "output_type": "stream",
     "text": [
      "INFO:root:串口发送请求数据 code:7\n",
      "INFO:root:数据帧内容:\n",
      "INFO:root:0x12 0x4c 0x07 0x06 0x00 0x00 0x64 0x00 0x00 0x00 0xcf \n"
     ]
    }
   ],
   "source": [
    "uservo_manager.request_set_spin(servo_id, mode, is_cw = True)"
   ]
  },
  {
   "cell_type": "markdown",
   "metadata": {},
   "source": [
    "#### 轮子停止"
   ]
  },
  {
   "cell_type": "code",
   "execution_count": 20,
   "metadata": {},
   "outputs": [
    {
     "name": "stderr",
     "output_type": "stream",
     "text": [
      "INFO:root:串口发送请求数据 code:7\n",
      "INFO:root:数据帧内容:\n",
      "INFO:root:0x12 0x4c 0x07 0x06 0x00 0x80 0x64 0x00 0x00 0x00 0x4f \n"
     ]
    }
   ],
   "source": [
    "servo_id = 0 # 舵机ID\n",
    "mode = UartServoManager.WHEEL_MODE_STOP # 设置模式为不停的旋转\n",
    "uservo_manager.request_set_spin(servo_id, mode)"
   ]
  },
  {
   "cell_type": "markdown",
   "metadata": {},
   "source": [
    "#### 轮子定圈"
   ]
  },
  {
   "cell_type": "code",
   "execution_count": 19,
   "metadata": {},
   "outputs": [
    {
     "name": "stderr",
     "output_type": "stream",
     "text": [
      "INFO:root:串口发送请求数据 code:7\n",
      "INFO:root:数据帧内容:\n",
      "INFO:root:0x12 0x4c 0x07 0x06 0x00 0x82 0x64 0x00 0x05 0x00 0x56 \n"
     ]
    }
   ],
   "source": [
    "servo_id = 0 # 舵机ID\n",
    "mode = UartServoManager.WHEEL_MODE_ROUND # 控制模式\n",
    "speed = 100 # 旋转速度\n",
    "nround = 5 # 旋转5圈\n",
    "is_cw = True # 顺时针运动\n",
    "uservo_manager.request_set_spin(servo_id, mode, value=nround, speed=speed, is_cw=is_cw)"
   ]
  },
  {
   "cell_type": "markdown",
   "metadata": {},
   "source": [
    "#### 轮子定时"
   ]
  },
  {
   "cell_type": "code",
   "execution_count": 21,
   "metadata": {},
   "outputs": [
    {
     "name": "stderr",
     "output_type": "stream",
     "text": [
      "INFO:root:串口发送请求数据 code:7\n",
      "INFO:root:数据帧内容:\n",
      "INFO:root:0x12 0x4c 0x07 0x06 0x00 0x83 0x64 0x00 0xe8 0x03 0x3d \n"
     ]
    }
   ],
   "source": [
    "servo_id = 0 # 舵机ID\n",
    "mode = UartServoManager.WHEEL_MODE_TIME # 控制模式\n",
    "speed = 100 # 旋转速度\n",
    "time_ms = 1000 # 旋转1000ms\n",
    "is_cw = True # 顺时针运动\n",
    "uservo_manager.request_set_spin(servo_id, mode, value=time_ms, speed=speed, is_cw=is_cw)"
   ]
  },
  {
   "cell_type": "markdown",
   "metadata": {},
   "source": [
    "## 阻尼模式"
   ]
  },
  {
   "cell_type": "markdown",
   "metadata": {},
   "source": [
    "### API说明"
   ]
  },
  {
   "cell_type": "markdown",
   "metadata": {},
   "source": [
    "**函数**\n",
    "\n",
    "`uservo_manager.request_set_damming(srv_id, power=0)`\n",
    "\n",
    "\n",
    "**功能**\n",
    "\n",
    "开启阻尼模式,并设置舵机的保持功率.\n",
    "\n",
    "\n",
    "**参数**\n",
    "* @param `srv_id` 舵机的ID\n",
    "* @param `power` 舵机的保持功率 (单位mW)\n",
    "\n",
    "\n",
    "**注意事项**\n",
    "1. 如果保持功率`power`设置为0, 或者大于功率上限， 则按照功率上限处理.\n",
    "2. 保持功率越大, 阻力越大"
   ]
  },
  {
   "cell_type": "markdown",
   "metadata": {},
   "source": [
    "详情见 *FashionStar串口舵机说明书 /  <指令> 阻尼模式控制*"
   ]
  },
  {
   "cell_type": "markdown",
   "metadata": {},
   "source": [
    "### 使用样例"
   ]
  },
  {
   "cell_type": "markdown",
   "metadata": {},
   "source": [
    "设置0号舵机的阻尼模式的保持功率为500 mW"
   ]
  },
  {
   "cell_type": "code",
   "execution_count": 23,
   "metadata": {},
   "outputs": [
    {
     "name": "stderr",
     "output_type": "stream",
     "text": [
      "INFO:root:串口发送请求数据 code:9\n",
      "INFO:root:数据帧内容:\n",
      "INFO:root:0x12 0x4c 0x09 0x03 0x00 0xf4 0x01 0x5f \n"
     ]
    }
   ],
   "source": [
    "servo_id = 0 # 舵机ID\n",
    "power = 500 # 保持功率\n",
    "uservo_manager.request_set_damming(servo_id, power)"
   ]
  }
 ],
 "metadata": {
  "kernelspec": {
   "display_name": "Python 3",
   "language": "python",
   "name": "python3"
  },
  "language_info": {
   "codemirror_mode": {
    "name": "ipython",
    "version": 3
   },
   "file_extension": ".py",
   "mimetype": "text/x-python",
   "name": "python",
   "nbconvert_exporter": "python",
   "pygments_lexer": "ipython3",
   "version": "3.6.9"
  }
 },
 "nbformat": 4,
 "nbformat_minor": 2
}
